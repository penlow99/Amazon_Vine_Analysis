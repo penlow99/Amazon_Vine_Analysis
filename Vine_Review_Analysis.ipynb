{
  "nbformat": 4,
  "nbformat_minor": 0,
  "metadata": {
    "colab": {
      "name": "Vine_Review_Analysis.ipynb",
      "provenance": [],
      "collapsed_sections": []
    },
    "kernelspec": {
      "name": "python3",
      "display_name": "Python 3"
    }
  },
  "cells": [
    {
      "cell_type": "code",
      "metadata": {
        "colab": {
          "base_uri": "https://localhost:8080/"
        },
        "id": "rtwLJC0wJeDk",
        "outputId": "0b21f4ed-e5cd-4332-b07a-c81cd8cb36d8"
      },
      "source": [
        "import os\r\n",
        "# Find the latest version of spark 2.0  from http://www-us.apache.org/dist/spark/ and enter as the spark version\r\n",
        "# For example:\r\n",
        "# spark_version = 'spark-3.0.0'\r\n",
        "spark_version = 'spark-3.0.1'\r\n",
        "os.environ['SPARK_VERSION']=spark_version\r\n",
        "\r\n",
        "# Install Spark and Java\r\n",
        "!apt-get update\r\n",
        "!apt-get install openjdk-11-jdk-headless -qq > /dev/null\r\n",
        "!wget -q http://www-us.apache.org/dist/spark/$SPARK_VERSION/$SPARK_VERSION-bin-hadoop2.7.tgz\r\n",
        "!tar xf $SPARK_VERSION-bin-hadoop2.7.tgz\r\n",
        "!pip install -q findspark\r\n",
        "\r\n",
        "# Set Environment Variables\r\n",
        "import os\r\n",
        "os.environ[\"JAVA_HOME\"] = \"/usr/lib/jvm/java-11-openjdk-amd64\"\r\n",
        "os.environ[\"SPARK_HOME\"] = f\"/content/{spark_version}-bin-hadoop2.7\"\r\n",
        "\r\n",
        "# Start a SparkSession\r\n",
        "import findspark\r\n",
        "findspark.init()"
      ],
      "execution_count": 1,
      "outputs": [
        {
          "output_type": "stream",
          "text": [
            "\r0% [Working]\r            \rHit:1 http://archive.ubuntu.com/ubuntu bionic InRelease\n",
            "\r0% [Connecting to security.ubuntu.com (91.189.91.38)] [Connected to cloud.r-pro\r                                                                               \rGet:2 http://archive.ubuntu.com/ubuntu bionic-updates InRelease [88.7 kB]\n",
            "\r                                                                               \rGet:3 http://archive.ubuntu.com/ubuntu bionic-backports InRelease [74.6 kB]\n",
            "\r0% [Waiting for headers] [Connected to cloud.r-project.org (143.204.201.80)] [C\r0% [1 InRelease gpgv 242 kB] [Waiting for headers] [Connected to cloud.r-projec\r                                                                               \rGet:4 https://cloud.r-project.org/bin/linux/ubuntu bionic-cran40/ InRelease [3,626 B]\n",
            "Get:5 http://ppa.launchpad.net/c2d4u.team/c2d4u4.0+/ubuntu bionic InRelease [15.9 kB]\n",
            "Hit:6 http://ppa.launchpad.net/cran/libgit2/ubuntu bionic InRelease\n",
            "Get:7 http://security.ubuntu.com/ubuntu bionic-security InRelease [88.7 kB]\n",
            "Hit:8 http://ppa.launchpad.net/graphics-drivers/ppa/ubuntu bionic InRelease\n",
            "Ign:9 https://developer.download.nvidia.com/compute/cuda/repos/ubuntu1804/x86_64  InRelease\n",
            "Ign:10 https://developer.download.nvidia.com/compute/machine-learning/repos/ubuntu1804/x86_64  InRelease\n",
            "Hit:11 https://developer.download.nvidia.com/compute/cuda/repos/ubuntu1804/x86_64  Release\n",
            "Hit:12 https://developer.download.nvidia.com/compute/machine-learning/repos/ubuntu1804/x86_64  Release\n",
            "Get:13 http://archive.ubuntu.com/ubuntu bionic-updates/universe amd64 Packages [2,151 kB]\n",
            "Get:14 http://archive.ubuntu.com/ubuntu bionic-updates/main amd64 Packages [2,321 kB]\n",
            "Get:15 http://ppa.launchpad.net/c2d4u.team/c2d4u4.0+/ubuntu bionic/main Sources [1,716 kB]\n",
            "Get:16 http://ppa.launchpad.net/c2d4u.team/c2d4u4.0+/ubuntu bionic/main amd64 Packages [878 kB]\n",
            "Get:17 http://security.ubuntu.com/ubuntu bionic-security/main amd64 Packages [1,890 kB]\n",
            "Fetched 9,227 kB in 3s (3,650 kB/s)\n",
            "Reading package lists... Done\n"
          ],
          "name": "stdout"
        }
      ]
    },
    {
      "cell_type": "code",
      "metadata": {
        "id": "TJDJMRbwJ9X0"
      },
      "source": [
        "from pyspark.sql import SparkSession\r\n",
        "spark = SparkSession.builder.appName(\"BigData-Challenge\").config(\"spark.driver.extraClassPath\",\"/content/postgresql-42.2.16.jar\").getOrCreate()"
      ],
      "execution_count": 2,
      "outputs": []
    },
    {
      "cell_type": "code",
      "metadata": {
        "colab": {
          "base_uri": "https://localhost:8080/"
        },
        "id": "cfr1jvznKG_a",
        "outputId": "98c097fc-dc26-4fec-c3d8-a8502fbb1f98"
      },
      "source": [
        "from pyspark import SparkFiles\r\n",
        "url = \"https://s3.amazonaws.com/amazon-reviews-pds/tsv/amazon_reviews_us_Major_Appliances_v1_00.tsv.gz\"\r\n",
        "spark.sparkContext.addFile(url)\r\n",
        "df = spark.read.option(\"encoding\", \"UTF-8\").csv(SparkFiles.get(\"amazon_reviews_us_Major_Appliances_v1_00.tsv.gz\"), sep=\"\\t\", header=True, inferSchema=True)\r\n",
        "df.show()"
      ],
      "execution_count": 3,
      "outputs": [
        {
          "output_type": "stream",
          "text": [
            "+-----------+-----------+--------------+----------+--------------+--------------------+----------------+-----------+-------------+-----------+----+-----------------+--------------------+--------------------+-----------+\n",
            "|marketplace|customer_id|     review_id|product_id|product_parent|       product_title|product_category|star_rating|helpful_votes|total_votes|vine|verified_purchase|     review_headline|         review_body|review_date|\n",
            "+-----------+-----------+--------------+----------+--------------+--------------------+----------------+-----------+-------------+-----------+----+-----------------+--------------------+--------------------+-----------+\n",
            "|         US|   16199106|R203HPW78Z7N4K|B0067WNSZY|     633038551|FGGF3032MW Galler...|Major Appliances|          5|            0|          0|   N|                Y|If you need a new...|What a great stov...| 2015-08-31|\n",
            "|         US|   16374060|R2EAIGVLEALSP3|B002QSXK60|     811766671|Best Hand Clothes...|Major Appliances|          5|            1|          1|   N|                Y|          Five Stars|        worked great| 2015-08-31|\n",
            "|         US|   15322085|R1K1CD73HHLILA|B00EC452R6|     345562728|Supco SET184 Ther...|Major Appliances|          5|            0|          0|   N|                Y|       Fast Shipping|Part exactly what...| 2015-08-31|\n",
            "|         US|   32004835|R2KZBMOFRMYOPO|B00MVVIF2G|     563052763|Midea WHS-160RB1 ...|Major Appliances|          5|            1|          1|   N|                Y|          Five Stars|Love my refrigera...| 2015-08-31|\n",
            "|         US|   25414497| R6BIZOZY6UD01|B00IY7BNUW|     874236579|Avalon Bay Portab...|Major Appliances|          5|            0|          0|   N|                Y|          Five Stars|No more running t...| 2015-08-31|\n",
            "|         US|   36311751|R1MCXZFNF8E7Y0|B0033X29CI|     294467812|Danby  Freestandi...|Major Appliances|          1|            0|          0|   N|                Y|       Piece of Junk|It would not cool...| 2015-08-31|\n",
            "|         US|   30920961|R3EMB3E3ODR6BW|B005R597HA|     183784715|Avanti 110-Volt A...|Major Appliances|          5|            2|          2|   N|                Y|Works awesome for...|Works awesome for...| 2015-08-31|\n",
            "|         US|   52491265| RJTONVTTOPJ5S|B00MO6V8Y0|     960251524|      Danby products|Major Appliances|          5|            0|          0|   N|                Y|          Five Stars|exactly what I wa...| 2015-08-31|\n",
            "|         US|   48166169|R21U5QZ2CQECUM|B00HT39QDI|     992475314|3 Pack Tier1 MSWF...|Major Appliances|          4|            0|          0|   N|                Y|          Four Stars|       AS advertised| 2015-08-31|\n",
            "|         US|   50394924| RL2BBC51H89DH|B00LESFZ52|       1641606|True TSSU-60-16 6...|Major Appliances|          4|            0|          0|   N|                Y|but has poor insu...|It works as adver...| 2015-08-31|\n",
            "|         US|    3915552|R3RNEPHF3WIRSZ|B0149IJVPI|     838108342|Magic: the Gather...|Major Appliances|          2|            0|          0|   N|                N|           Two Stars|it's not worth 22...| 2015-08-31|\n",
            "|         US|   17068589|R38DNT9KML2PF3|B002HT0958|     387104338|Mini Portable Cou...|Major Appliances|          5|            0|          0|   N|                Y| Love it for camping|Wonderful! It spi...| 2015-08-31|\n",
            "|         US|   52081068|R2ECMBJM8KNNC8|B006WOBNX6|     180688127|1 X Dishwasher Ra...|Major Appliances|          4|            0|          0|   N|                Y|          Four Stars|Did the job but d...| 2015-08-31|\n",
            "|         US|   13783713|R2F3F92PRN9T7S|B00NLPMOU0|     570132358|Watson 1.5 ft AC ...|Major Appliances|          5|            0|          0|   N|                Y|Very well satisfied.|Arrived on time a...| 2015-08-31|\n",
            "|         US|   14555366|R35XNT88XVEMK6|B00KJ07SEM|     313983847|GE MWF SmartWater...|Major Appliances|          5|            1|          1|   N|                Y|          Five Stars|               Super| 2015-08-31|\n",
            "|         US|   48417244| RZRXLHQS71FUP|B001AT2ALM|     364403440|Koldfront Ultra C...|Major Appliances|          4|            1|          1|   N|                Y|          Four Stars|Looking forward t...| 2015-08-31|\n",
            "|         US|   19010760|R3J9T4MZRAURV5|B00JG8B42K|     672722354|OnePurify RFC0800...|Major Appliances|          1|            0|          0|   N|                Y|     dont waste your|cheap knock-off. ...| 2015-08-31|\n",
            "|         US|   43532555|R3CLDHHI0ZSQLO|B00FRJ5EWS|     137548022|2016 Life Water I...|Major Appliances|          5|            1|          2|   N|                N|       Great Product|My wife is lookin...| 2015-08-31|\n",
            "|         US|   21879631| RY52KZABZK8QF|B0052G14E8|     423421857|Danby 0.7 cu.ft. ...|Major Appliances|          1|            0|          0|   N|                Y|Do not recommend ...|3 of the buttons ...| 2015-08-31|\n",
            "|         US|     810098|R25RXV5X29M3UC|B00LOVVE9A|     386722389|SPT UF-304SS Ener...|Major Appliances|          4|            0|          1|   N|                Y|          Four Stars|     So far so good.| 2015-08-31|\n",
            "+-----------+-----------+--------------+----------+--------------+--------------------+----------------+-----------+-------------+-----------+----+-----------------+--------------------+--------------------+-----------+\n",
            "only showing top 20 rows\n",
            "\n"
          ],
          "name": "stdout"
        }
      ]
    },
    {
      "cell_type": "code",
      "metadata": {
        "colab": {
          "base_uri": "https://localhost:8080/"
        },
        "id": "qXGZ_vVWKNQb",
        "outputId": "93c7a5e5-4142-4bb6-896c-0e88f434ee45"
      },
      "source": [
        "# Create the vine_table. DataFrame\r\n",
        "# vine_df = df.select([])\r\n",
        "vine_df = df.select([\"review_id\", \"star_rating\", \"helpful_votes\", \"total_votes\", \"vine\", \"verified_purchase\"])\r\n",
        "vine_df.show()"
      ],
      "execution_count": 4,
      "outputs": [
        {
          "output_type": "stream",
          "text": [
            "+--------------+-----------+-------------+-----------+----+-----------------+\n",
            "|     review_id|star_rating|helpful_votes|total_votes|vine|verified_purchase|\n",
            "+--------------+-----------+-------------+-----------+----+-----------------+\n",
            "|R203HPW78Z7N4K|          5|            0|          0|   N|                Y|\n",
            "|R2EAIGVLEALSP3|          5|            1|          1|   N|                Y|\n",
            "|R1K1CD73HHLILA|          5|            0|          0|   N|                Y|\n",
            "|R2KZBMOFRMYOPO|          5|            1|          1|   N|                Y|\n",
            "| R6BIZOZY6UD01|          5|            0|          0|   N|                Y|\n",
            "|R1MCXZFNF8E7Y0|          1|            0|          0|   N|                Y|\n",
            "|R3EMB3E3ODR6BW|          5|            2|          2|   N|                Y|\n",
            "| RJTONVTTOPJ5S|          5|            0|          0|   N|                Y|\n",
            "|R21U5QZ2CQECUM|          4|            0|          0|   N|                Y|\n",
            "| RL2BBC51H89DH|          4|            0|          0|   N|                Y|\n",
            "|R3RNEPHF3WIRSZ|          2|            0|          0|   N|                N|\n",
            "|R38DNT9KML2PF3|          5|            0|          0|   N|                Y|\n",
            "|R2ECMBJM8KNNC8|          4|            0|          0|   N|                Y|\n",
            "|R2F3F92PRN9T7S|          5|            0|          0|   N|                Y|\n",
            "|R35XNT88XVEMK6|          5|            1|          1|   N|                Y|\n",
            "| RZRXLHQS71FUP|          4|            1|          1|   N|                Y|\n",
            "|R3J9T4MZRAURV5|          1|            0|          0|   N|                Y|\n",
            "|R3CLDHHI0ZSQLO|          5|            1|          2|   N|                N|\n",
            "| RY52KZABZK8QF|          1|            0|          0|   N|                Y|\n",
            "|R25RXV5X29M3UC|          4|            0|          1|   N|                Y|\n",
            "+--------------+-----------+-------------+-----------+----+-----------------+\n",
            "only showing top 20 rows\n",
            "\n"
          ],
          "name": "stdout"
        }
      ]
    },
    {
      "cell_type": "code",
      "metadata": {
        "colab": {
          "base_uri": "https://localhost:8080/"
        },
        "id": "HGy5DOOrKROY",
        "outputId": "68ac2c50-31da-4872-bcfd-d1ac0f4e1609"
      },
      "source": [
        "# Create a df for more than 20 total_votes\r\n",
        "votes_greater_20_df = vine_df.filter(vine_df.total_votes > 20)\r\n",
        "votes_greater_20_df.show()"
      ],
      "execution_count": 5,
      "outputs": [
        {
          "output_type": "stream",
          "text": [
            "+--------------+-----------+-------------+-----------+----+-----------------+\n",
            "|     review_id|star_rating|helpful_votes|total_votes|vine|verified_purchase|\n",
            "+--------------+-----------+-------------+-----------+----+-----------------+\n",
            "|R1QXNQBTH7LIUB|          3|            9|         22|   N|                Y|\n",
            "|R3BC75VKJK6LNV|          4|           83|         89|   N|                Y|\n",
            "| R5XKK92G5N9FU|          1|           18|         22|   N|                N|\n",
            "| RYMOWYW38WKOB|          5|           35|         35|   N|                N|\n",
            "| RYHZAVESD0T37|          1|           39|         45|   N|                Y|\n",
            "|R19Y5VBOF3BQOG|          1|           26|         35|   N|                Y|\n",
            "| R8V9F3139Z1WZ|          1|           30|         34|   N|                N|\n",
            "|R3RNY5OLY451GS|          1|           25|         30|   N|                Y|\n",
            "|R2NLL7ISMM5QYQ|          4|           89|         94|   N|                Y|\n",
            "|R3FAFI6Q0YL37W|          1|           30|         35|   N|                Y|\n",
            "|R1A4JVOP7N5Q1K|          5|           28|         30|   N|                Y|\n",
            "|R30E25MXKEP9BP|          4|           36|         37|   N|                Y|\n",
            "|R2FMLYX388LR2Y|          5|           28|         33|   N|                Y|\n",
            "| R1EGFDXPYGROC|          5|           28|         32|   N|                Y|\n",
            "|R2DCZYJZRF0V2O|          5|           26|         28|   N|                Y|\n",
            "|R3QNOR0K43XLWB|          5|           41|         41|   N|                N|\n",
            "| RPNUNJJZLD11P|          1|           26|         27|   N|                N|\n",
            "|R39VRWWZWAHBPH|          1|           15|         21|   N|                Y|\n",
            "| RU7XNN9EC8V8X|          1|           31|         36|   N|                Y|\n",
            "|R2ZU7AC8QSDUOB|          4|           41|         44|   N|                Y|\n",
            "+--------------+-----------+-------------+-----------+----+-----------------+\n",
            "only showing top 20 rows\n",
            "\n"
          ],
          "name": "stdout"
        }
      ]
    },
    {
      "cell_type": "code",
      "metadata": {
        "colab": {
          "base_uri": "https://localhost:8080/"
        },
        "id": "kwBOyVIRLmUD",
        "outputId": "1dffee0f-0f1d-4c0b-be42-1300aa92ca3a"
      },
      "source": [
        "# Filter the new DataFrame and create a new DataFrame to retrieve all the rows where \r\n",
        "# the number of helpful_votes divided by total_votes is equal to or greater than 50%\r\n",
        "divided_df = votes_greater_20_df.filter((votes_greater_20_df.helpful_votes / votes_greater_20_df.total_votes) >= 0.5)\r\n",
        "divided_df.show()"
      ],
      "execution_count": 7,
      "outputs": [
        {
          "output_type": "stream",
          "text": [
            "+--------------+-----------+-------------+-----------+----+-----------------+\n",
            "|     review_id|star_rating|helpful_votes|total_votes|vine|verified_purchase|\n",
            "+--------------+-----------+-------------+-----------+----+-----------------+\n",
            "|R3BC75VKJK6LNV|          4|           83|         89|   N|                Y|\n",
            "| R5XKK92G5N9FU|          1|           18|         22|   N|                N|\n",
            "| RYMOWYW38WKOB|          5|           35|         35|   N|                N|\n",
            "| RYHZAVESD0T37|          1|           39|         45|   N|                Y|\n",
            "|R19Y5VBOF3BQOG|          1|           26|         35|   N|                Y|\n",
            "| R8V9F3139Z1WZ|          1|           30|         34|   N|                N|\n",
            "|R3RNY5OLY451GS|          1|           25|         30|   N|                Y|\n",
            "|R2NLL7ISMM5QYQ|          4|           89|         94|   N|                Y|\n",
            "|R3FAFI6Q0YL37W|          1|           30|         35|   N|                Y|\n",
            "|R1A4JVOP7N5Q1K|          5|           28|         30|   N|                Y|\n",
            "|R30E25MXKEP9BP|          4|           36|         37|   N|                Y|\n",
            "|R2FMLYX388LR2Y|          5|           28|         33|   N|                Y|\n",
            "| R1EGFDXPYGROC|          5|           28|         32|   N|                Y|\n",
            "|R2DCZYJZRF0V2O|          5|           26|         28|   N|                Y|\n",
            "|R3QNOR0K43XLWB|          5|           41|         41|   N|                N|\n",
            "| RPNUNJJZLD11P|          1|           26|         27|   N|                N|\n",
            "|R39VRWWZWAHBPH|          1|           15|         21|   N|                Y|\n",
            "| RU7XNN9EC8V8X|          1|           31|         36|   N|                Y|\n",
            "|R2ZU7AC8QSDUOB|          4|           41|         44|   N|                Y|\n",
            "|R29HVMIBN45FSR|          1|           27|         33|   N|                Y|\n",
            "+--------------+-----------+-------------+-----------+----+-----------------+\n",
            "only showing top 20 rows\n",
            "\n"
          ],
          "name": "stdout"
        }
      ]
    },
    {
      "cell_type": "code",
      "metadata": {
        "colab": {
          "base_uri": "https://localhost:8080/"
        },
        "id": "FeTvGtmoMmOQ",
        "outputId": "b1099061-7077-4949-e356-98c49e4f9d9a"
      },
      "source": [
        "# Vine = yes DataFrame\r\n",
        "vine_yes_df = divided_df.filter(divided_df.vine == \"Y\")\r\n",
        "vine_yes_df.show()"
      ],
      "execution_count": 8,
      "outputs": [
        {
          "output_type": "stream",
          "text": [
            "+--------------+-----------+-------------+-----------+----+-----------------+\n",
            "|     review_id|star_rating|helpful_votes|total_votes|vine|verified_purchase|\n",
            "+--------------+-----------+-------------+-----------+----+-----------------+\n",
            "|R20O97P5V9CZ21|          3|           21|         27|   Y|                N|\n",
            "| RCNB7YGLWKCV5|          5|           23|         30|   Y|                N|\n",
            "| RX1ZUVGBH3HKC|          5|          814|        848|   Y|                N|\n",
            "| RRS5AGL10DYU3|          3|           25|         29|   Y|                N|\n",
            "| R5YFC5G8V2B3I|          5|          104|        117|   Y|                N|\n",
            "|R1IDQ0G1S7J9TN|          5|          178|        196|   Y|                N|\n",
            "| RKXNZX22HQZEE|          3|          182|        192|   Y|                N|\n",
            "|R2K45IY0NO70ZI|          5|          116|        122|   Y|                N|\n",
            "| RQXRI4UKDX877|          5|           20|         24|   Y|                N|\n",
            "|R1L2R8OHO171YG|          5|           66|         68|   Y|                N|\n",
            "|R15NQCQUNOSI4U|          4|           19|         22|   Y|                N|\n",
            "|R37J6VNSC5TZVS|          4|           19|         22|   Y|                N|\n",
            "|R3F1V21FOEIEKN|          4|           30|         33|   Y|                N|\n",
            "|R2SQ2O06PRCM9D|          5|           28|         31|   Y|                N|\n",
            "|R2SIOD5SIH2LJN|          4|           25|         31|   Y|                N|\n",
            "| R9J3GG1IL1KWC|          5|          158|        164|   Y|                N|\n",
            "|R2ACH3HF5VUWGD|          4|           76|         78|   Y|                N|\n",
            "|R3G0GOG0CWU7AU|          5|           36|         37|   Y|                N|\n",
            "|R214D7Q3CO5W5J|          5|           51|         52|   Y|                N|\n",
            "|R2X8VIUPVX3WP2|          5|           52|         57|   Y|                N|\n",
            "+--------------+-----------+-------------+-----------+----+-----------------+\n",
            "only showing top 20 rows\n",
            "\n"
          ],
          "name": "stdout"
        }
      ]
    },
    {
      "cell_type": "code",
      "metadata": {
        "colab": {
          "base_uri": "https://localhost:8080/"
        },
        "id": "xiMvFb1RNZ_b",
        "outputId": "1fe10f1f-cf2b-4b82-c8eb-d818d06b721c"
      },
      "source": [
        "# Vine = No DataFrame\r\n",
        "vine_no_df = divided_df.filter(divided_df.vine == \"N\")\r\n",
        "vine_no_df.show()"
      ],
      "execution_count": 9,
      "outputs": [
        {
          "output_type": "stream",
          "text": [
            "+--------------+-----------+-------------+-----------+----+-----------------+\n",
            "|     review_id|star_rating|helpful_votes|total_votes|vine|verified_purchase|\n",
            "+--------------+-----------+-------------+-----------+----+-----------------+\n",
            "|R3BC75VKJK6LNV|          4|           83|         89|   N|                Y|\n",
            "| R5XKK92G5N9FU|          1|           18|         22|   N|                N|\n",
            "| RYMOWYW38WKOB|          5|           35|         35|   N|                N|\n",
            "| RYHZAVESD0T37|          1|           39|         45|   N|                Y|\n",
            "|R19Y5VBOF3BQOG|          1|           26|         35|   N|                Y|\n",
            "| R8V9F3139Z1WZ|          1|           30|         34|   N|                N|\n",
            "|R3RNY5OLY451GS|          1|           25|         30|   N|                Y|\n",
            "|R2NLL7ISMM5QYQ|          4|           89|         94|   N|                Y|\n",
            "|R3FAFI6Q0YL37W|          1|           30|         35|   N|                Y|\n",
            "|R1A4JVOP7N5Q1K|          5|           28|         30|   N|                Y|\n",
            "|R30E25MXKEP9BP|          4|           36|         37|   N|                Y|\n",
            "|R2FMLYX388LR2Y|          5|           28|         33|   N|                Y|\n",
            "| R1EGFDXPYGROC|          5|           28|         32|   N|                Y|\n",
            "|R2DCZYJZRF0V2O|          5|           26|         28|   N|                Y|\n",
            "|R3QNOR0K43XLWB|          5|           41|         41|   N|                N|\n",
            "| RPNUNJJZLD11P|          1|           26|         27|   N|                N|\n",
            "|R39VRWWZWAHBPH|          1|           15|         21|   N|                Y|\n",
            "| RU7XNN9EC8V8X|          1|           31|         36|   N|                Y|\n",
            "|R2ZU7AC8QSDUOB|          4|           41|         44|   N|                Y|\n",
            "|R29HVMIBN45FSR|          1|           27|         33|   N|                Y|\n",
            "+--------------+-----------+-------------+-----------+----+-----------------+\n",
            "only showing top 20 rows\n",
            "\n"
          ],
          "name": "stdout"
        }
      ]
    },
    {
      "cell_type": "code",
      "metadata": {
        "colab": {
          "base_uri": "https://localhost:8080/"
        },
        "id": "AnCq9_rVNonv",
        "outputId": "6231bdc3-f29a-4cbc-817d-bf6f23c24b5b"
      },
      "source": [
        "# Yes df total reviews\r\n",
        "vine_yes_total = vine_yes_df.count()\r\n",
        "vine_yes_total"
      ],
      "execution_count": 12,
      "outputs": [
        {
          "output_type": "execute_result",
          "data": {
            "text/plain": [
              "31"
            ]
          },
          "metadata": {
            "tags": []
          },
          "execution_count": 12
        }
      ]
    },
    {
      "cell_type": "code",
      "metadata": {
        "colab": {
          "base_uri": "https://localhost:8080/"
        },
        "id": "c2PhVsN3Ost6",
        "outputId": "540a713e-2c38-41d3-f024-97832e433c4e"
      },
      "source": [
        "# Yes df 5 start reviews\r\n",
        "vine_yes_5star = vine_yes_df.filter(vine_yes_df.star_rating == 5)\r\n",
        "vine_yes_5star.count()"
      ],
      "execution_count": 17,
      "outputs": [
        {
          "output_type": "execute_result",
          "data": {
            "text/plain": [
              "17"
            ]
          },
          "metadata": {
            "tags": []
          },
          "execution_count": 17
        }
      ]
    },
    {
      "cell_type": "code",
      "metadata": {
        "colab": {
          "base_uri": "https://localhost:8080/"
        },
        "id": "lY55cbXXPmff",
        "outputId": "1fe0456c-5309-4f0c-ad06-5f3710782256"
      },
      "source": [
        "# Yes df percentage of 5 star\r\n",
        "vine_yes_percentage = vine_yes_5star.count() / vine_yes_total * 100\r\n",
        "vine_yes_percentage"
      ],
      "execution_count": 19,
      "outputs": [
        {
          "output_type": "execute_result",
          "data": {
            "text/plain": [
              "54.83870967741935"
            ]
          },
          "metadata": {
            "tags": []
          },
          "execution_count": 19
        }
      ]
    },
    {
      "cell_type": "code",
      "metadata": {
        "colab": {
          "base_uri": "https://localhost:8080/"
        },
        "id": "uJ0Nff0-QYoM",
        "outputId": "584a4963-5a7d-4a8b-d5b8-c25ea5f67fc5"
      },
      "source": [
        "# No df total reviews\r\n",
        "vine_no_total = vine_no_df.count()\r\n",
        "vine_no_total"
      ],
      "execution_count": 20,
      "outputs": [
        {
          "output_type": "execute_result",
          "data": {
            "text/plain": [
              "4655"
            ]
          },
          "metadata": {
            "tags": []
          },
          "execution_count": 20
        }
      ]
    },
    {
      "cell_type": "code",
      "metadata": {
        "colab": {
          "base_uri": "https://localhost:8080/"
        },
        "id": "ZZdvYFgBQYoY",
        "outputId": "79939846-f5fb-4d42-f7fc-c89ea566e094"
      },
      "source": [
        "# No df 5 start reviews\r\n",
        "vine_no_5star = vine_no_df.filter(vine_no_df.star_rating == 5)\r\n",
        "vine_no_5star.count()"
      ],
      "execution_count": 21,
      "outputs": [
        {
          "output_type": "execute_result",
          "data": {
            "text/plain": [
              "1865"
            ]
          },
          "metadata": {
            "tags": []
          },
          "execution_count": 21
        }
      ]
    },
    {
      "cell_type": "code",
      "metadata": {
        "colab": {
          "base_uri": "https://localhost:8080/"
        },
        "id": "X1rdnNyiQdhD",
        "outputId": "e7013e64-fedf-47fa-8ac2-8dca8adcb32b"
      },
      "source": [
        "# No df percentage of 5 star\r\n",
        "vine_no_percentage = vine_no_5star.count() / vine_no_total * 100\r\n",
        "vine_no_percentage"
      ],
      "execution_count": 22,
      "outputs": [
        {
          "output_type": "execute_result",
          "data": {
            "text/plain": [
              "40.06444683136412"
            ]
          },
          "metadata": {
            "tags": []
          },
          "execution_count": 22
        }
      ]
    }
  ]
}